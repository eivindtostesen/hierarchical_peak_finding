{
 "cells": [
  {
   "cell_type": "markdown",
   "metadata": {},
   "source": [
    "# How to initialize a PeakTree object\n",
    "This tutorial shows how to format input data to `PeakTree(data)` that initializes an instance. PeakTree instantiation takes a single argument `data`, which must be an iterable of `(label,value)` pairs or `x,y` points.\n",
    "\n",
    "How to do that is shown for a range of different data sources."
   ]
  },
  {
   "cell_type": "markdown",
   "metadata": {},
   "source": [
    "## Discrete data sets\n",
    "How to find the hierarchical peaks in a discrete sequence of data points (e.g. sampled points, discrete 1-D functions, time series, etc.) is demonstrated for these cases:\n",
    "1. An x-vector and a y-vector\n",
    "2. Non-numeric x-coordinates\n",
    "3. A list of (x,y) tuples\n",
    "4. A dictionary of x: y\n",
    "5. A y-vector only\n",
    "6. A function y(x)\n",
    "7. A generator function yielding (x, y)\n",
    "8. Labels that are (label, value)-tuples themselves"
   ]
  },
  {
   "cell_type": "code",
   "execution_count": 1,
   "metadata": {},
   "outputs": [],
   "source": [
    "# import the module\n",
    "import hierarchical_peaks as hip"
   ]
  },
  {
   "cell_type": "markdown",
   "metadata": {},
   "source": [
    "### Example 1: An x-vector and a y-vector\n",
    "If data point coordinates are stored in two lists (`x_vector` and `y_vector`), then a `zip()` of the two lists can be used as input argument."
   ]
  },
  {
   "cell_type": "code",
   "execution_count": 5,
   "metadata": {},
   "outputs": [],
   "source": [
    "# small example data set:\n",
    "x_vector = [n for n in range(2005,2022)]\n",
    "y_vector = [8.5, 9.0, 5.0, 10.0, 7.5, 3.0, 6.0, 6.0, 2.0, 7.5, 7.5, 8.0, 6.0, 7.0, 4.0, 4.0, 5.0]\n",
    "\n",
    "\n",
    "# initialize a PeakTree:\n",
    "tree1 = hip.PeakTree(zip(x_vector, y_vector))\n"
   ]
  },
  {
   "cell_type": "markdown",
   "metadata": {},
   "source": [
    "You can double-check which data points that `PeakTree` used to initialize this instance, because they are stored (as a dict) in the data attribute called `data`."
   ]
  },
  {
   "cell_type": "code",
   "execution_count": 6,
   "metadata": {},
   "outputs": [
    {
     "name": "stdout",
     "output_type": "stream",
     "text": [
      "{2005: 8.5, 2006: 9.0, 2007: 5.0, 2008: 10.0, 2009: 7.5, 2010: 3.0, 2011: 6.0, 2013: 2.0, 2014: 7.5, 2016: 8.0, 2017: 6.0, 2018: 7.0, 2019: 4.0, 2021: 5.0}\n"
     ]
    }
   ],
   "source": [
    "print(tree1.data)"
   ]
  },
  {
   "cell_type": "markdown",
   "metadata": {},
   "source": [
    "### Example 2: Non-numeric x-coordinates\n",
    "The y-values must be numeric. But the x-labels can be any type of non-numeric object, as long as they can be used as keys in the `data` dict (must be unique and hashable)."
   ]
  },
  {
   "cell_type": "code",
   "execution_count": 7,
   "metadata": {},
   "outputs": [
    {
     "name": "stdout",
     "output_type": "stream",
     "text": [
      "('A', 8.5) ('B', 9.0) ('C', 5.0) ('D', 10.0) ('E', 7.5) ('F', 3.0) ('G', 6.0) ('H', 6.0) ('I', 2.0) ('J', 7.5) ('K', 7.5) ('L', 8.0) ('M', 6.0) ('N', 7.0) ('O', 4.0) ('P', 4.0) ('Q', 5.0)\n"
     ]
    }
   ],
   "source": [
    "x_nonnumeric = \"ABCDEFGHIJKLMNOPQRSTUVWXYZ\"\n",
    "\n",
    "print(*(zip(x_nonnumeric, y_vector)))"
   ]
  },
  {
   "cell_type": "code",
   "execution_count": 8,
   "metadata": {},
   "outputs": [
    {
     "name": "stdout",
     "output_type": "stream",
     "text": [
      "{'A': 8.5, 'B': 9.0, 'C': 5.0, 'D': 10.0, 'E': 7.5, 'F': 3.0, 'G': 6.0, 'I': 2.0, 'J': 7.5, 'L': 8.0, 'M': 6.0, 'N': 7.0, 'O': 4.0, 'Q': 5.0}\n"
     ]
    }
   ],
   "source": [
    "# initialize a PeakTree:\n",
    "tree2 = hip.PeakTree(zip(x_nonnumeric, y_vector))\n",
    "\n",
    "print(tree2.data)"
   ]
  },
  {
   "cell_type": "markdown",
   "metadata": {},
   "source": [
    "### Example 3: A list of (x,y) tuples\n",
    "If data points are available as a sorted list of `(x, y)`, then this list can be used directly as input argument."
   ]
  },
  {
   "cell_type": "code",
   "execution_count": 9,
   "metadata": {},
   "outputs": [
    {
     "name": "stdout",
     "output_type": "stream",
     "text": [
      "xy_list =  [(2005, 8.5), (2006, 9.0), (2007, 5.0), (2008, 10.0), (2009, 7.5), (2010, 3.0), (2011, 6.0), (2012, 6.0), (2013, 2.0), (2014, 7.5), (2015, 7.5), (2016, 8.0), (2017, 6.0), (2018, 7.0), (2019, 4.0), (2020, 4.0), (2021, 5.0)]\n"
     ]
    }
   ],
   "source": [
    "xy_list = list(zip(x_vector, y_vector))\n",
    "print(\"xy_list = \", xy_list)"
   ]
  },
  {
   "cell_type": "code",
   "execution_count": 10,
   "metadata": {},
   "outputs": [
    {
     "name": "stdout",
     "output_type": "stream",
     "text": [
      "{2005: 8.5, 2006: 9.0, 2007: 5.0, 2008: 10.0, 2009: 7.5, 2010: 3.0, 2011: 6.0, 2013: 2.0, 2014: 7.5, 2016: 8.0, 2017: 6.0, 2018: 7.0, 2019: 4.0, 2021: 5.0}\n"
     ]
    }
   ],
   "source": [
    "# initialize a PeakTree:\n",
    "tree3 = hip.PeakTree(xy_list)\n",
    "\n",
    "print(tree3.data)"
   ]
  },
  {
   "cell_type": "markdown",
   "metadata": {},
   "source": [
    "### Example 4: A dict of x: y\n",
    "If data points are stored in a dictionary, and they were inserted in sorted order, then the dict's `.items()` can be used as input argument. (In the current implementation, however, the dict itself can also be used as argument.)"
   ]
  },
  {
   "cell_type": "code",
   "execution_count": 11,
   "metadata": {},
   "outputs": [
    {
     "name": "stdout",
     "output_type": "stream",
     "text": [
      "xy_dict =  {2005: 8.5, 2006: 9.0, 2007: 5.0, 2008: 10.0, 2009: 7.5, 2010: 3.0, 2011: 6.0, 2012: 6.0, 2013: 2.0, 2014: 7.5, 2015: 7.5, 2016: 8.0, 2017: 6.0, 2018: 7.0, 2019: 4.0, 2020: 4.0, 2021: 5.0}\n"
     ]
    }
   ],
   "source": [
    "xy_dict = dict(zip(x_vector, y_vector))\n",
    "print(\"xy_dict = \", xy_dict)"
   ]
  },
  {
   "cell_type": "code",
   "execution_count": 12,
   "metadata": {},
   "outputs": [
    {
     "name": "stdout",
     "output_type": "stream",
     "text": [
      "{2005: 8.5, 2006: 9.0, 2007: 5.0, 2008: 10.0, 2009: 7.5, 2010: 3.0, 2011: 6.0, 2013: 2.0, 2014: 7.5, 2016: 8.0, 2017: 6.0, 2018: 7.0, 2019: 4.0, 2021: 5.0}\n"
     ]
    }
   ],
   "source": [
    "# initialize a PeakTree:\n",
    "tree4 = hip.PeakTree(xy_dict.items())\n",
    "\n",
    "print(tree4.data)"
   ]
  },
  {
   "cell_type": "markdown",
   "metadata": {},
   "source": [
    "### Example 5: A y-vector only\n",
    "If the data set is a list of y-values alone, then the index of the list is a natural x-coordinate, and an `enumerate()` of the list can be used as input argument."
   ]
  },
  {
   "cell_type": "code",
   "execution_count": 13,
   "metadata": {},
   "outputs": [
    {
     "name": "stdout",
     "output_type": "stream",
     "text": [
      "y_vector =  [8.5, 9.0, 5.0, 10.0, 7.5, 3.0, 6.0, 6.0, 2.0, 7.5, 7.5, 8.0, 6.0, 7.0, 4.0, 4.0, 5.0]\n"
     ]
    }
   ],
   "source": [
    "print(\"y_vector = \", y_vector)"
   ]
  },
  {
   "cell_type": "code",
   "execution_count": 14,
   "metadata": {
    "scrolled": true
   },
   "outputs": [
    {
     "name": "stdout",
     "output_type": "stream",
     "text": [
      "{0: 8.5, 1: 9.0, 2: 5.0, 3: 10.0, 4: 7.5, 5: 3.0, 6: 6.0, 8: 2.0, 9: 7.5, 11: 8.0, 12: 6.0, 13: 7.0, 14: 4.0, 16: 5.0}\n"
     ]
    }
   ],
   "source": [
    "# initialize a PeakTree:\n",
    "tree5 = hip.PeakTree(enumerate(y_vector))\n",
    "\n",
    "print(tree5.data)"
   ]
  },
  {
   "cell_type": "markdown",
   "metadata": {},
   "source": [
    "### Example 6: A function y(x)\n",
    "If we only have the x labels, but the y-values can be calculated with a function, then a generator expression like `((x, y(x)) for x in range(2005,2022))` can be used as input argument. "
   ]
  },
  {
   "cell_type": "code",
   "execution_count": 15,
   "metadata": {},
   "outputs": [
    {
     "name": "stdout",
     "output_type": "stream",
     "text": [
      "In 2005, y was 8.5\n",
      "In 2021, y was 5.0\n"
     ]
    }
   ],
   "source": [
    "def y(x):\n",
    "    return y_vector[x - 2005]\n",
    "\n",
    "# For example,\n",
    "print(\"In 2005, y was\", y(2005))\n",
    "print(\"In 2021, y was\", y(2021))"
   ]
  },
  {
   "cell_type": "code",
   "execution_count": 16,
   "metadata": {},
   "outputs": [
    {
     "name": "stdout",
     "output_type": "stream",
     "text": [
      "{2005: 8.5, 2006: 9.0, 2007: 5.0, 2008: 10.0, 2009: 7.5, 2010: 3.0, 2011: 6.0, 2013: 2.0, 2014: 7.5, 2016: 8.0, 2017: 6.0, 2018: 7.0, 2019: 4.0, 2021: 5.0}\n"
     ]
    }
   ],
   "source": [
    "# initialize a PeakTree:\n",
    "tree6 = hip.PeakTree(((x, y(x)) for x in range(2005,2022)))\n",
    "\n",
    "print(tree6.data)"
   ]
  },
  {
   "cell_type": "markdown",
   "metadata": {},
   "source": [
    "### Example 7: A generator function yielding (x, y)\n",
    "Sometimes you don't want a generator expression as input argument, but a generator function instead."
   ]
  },
  {
   "cell_type": "code",
   "execution_count": 17,
   "metadata": {},
   "outputs": [],
   "source": [
    "def xy_generator():\n",
    "    for x in range(2005,2022):\n",
    "        yield x, y_vector[x - 2005]"
   ]
  },
  {
   "cell_type": "code",
   "execution_count": 18,
   "metadata": {},
   "outputs": [
    {
     "name": "stdout",
     "output_type": "stream",
     "text": [
      "{2005: 8.5, 2006: 9.0, 2007: 5.0, 2008: 10.0, 2009: 7.5, 2010: 3.0, 2011: 6.0, 2013: 2.0, 2014: 7.5, 2016: 8.0, 2017: 6.0, 2018: 7.0, 2019: 4.0, 2021: 5.0}\n"
     ]
    }
   ],
   "source": [
    "# initialize a PeakTree:\n",
    "tree7 = hip.PeakTree(xy_generator())\n",
    "\n",
    "print(tree7.data)"
   ]
  },
  {
   "cell_type": "markdown",
   "metadata": {},
   "source": [
    "### Example 8: Labels that are (label, value)-tuples themselves\n",
    "The x-labels can be more complex objects. For example, they can be `(x, y)` coordinate pairs:"
   ]
  },
  {
   "cell_type": "code",
   "execution_count": 21,
   "metadata": {},
   "outputs": [
    {
     "name": "stdout",
     "output_type": "stream",
     "text": [
      "xy_pairs =  (2005, 8.5) (2006, 9.0) (2007, 5.0) (2008, 10.0) (2009, 7.5) (2010, 3.0) (2011, 6.0) (2012, 6.0) (2013, 2.0) (2014, 7.5) (2015, 7.5) (2016, 8.0) (2017, 6.0) (2018, 7.0) (2019, 4.0) (2020, 4.0) (2021, 5.0)\n"
     ]
    }
   ],
   "source": [
    "print(\"xy_pairs = \", *zip(x_vector, y_vector))"
   ]
  },
  {
   "cell_type": "code",
   "execution_count": 22,
   "metadata": {},
   "outputs": [
    {
     "name": "stdout",
     "output_type": "stream",
     "text": [
      "{(2005, 8.5): 8.5, (2006, 9.0): 9.0, (2007, 5.0): 5.0, (2008, 10.0): 10.0, (2009, 7.5): 7.5, (2010, 3.0): 3.0, (2011, 6.0): 6.0, (2013, 2.0): 2.0, (2014, 7.5): 7.5, (2016, 8.0): 8.0, (2017, 6.0): 6.0, (2018, 7.0): 7.0, (2019, 4.0): 4.0, (2021, 5.0): 5.0}\n"
     ]
    }
   ],
   "source": [
    "# initialize a PeakTree:\n",
    "\n",
    "tree8 = hip.PeakTree(zip(zip(x_vector, y_vector), y_vector))\n",
    "\n",
    "print(tree8.data)"
   ]
  },
  {
   "cell_type": "markdown",
   "metadata": {},
   "source": [
    "So it is straightforward to adapt data from discrete data sources. (Might be more automated in future.)\n",
    "\n",
    "## Continuous functions\n",
    "For finding peaks in a continuous function, if you sample the function with high enough density to capture all hills and valleys, you are back to the discrete case."
   ]
  }
 ],
 "metadata": {
  "kernelspec": {
   "display_name": "Python 3.9.12 ('base')",
   "language": "python",
   "name": "python3"
  },
  "language_info": {
   "codemirror_mode": {
    "name": "ipython",
    "version": 3
   },
   "file_extension": ".py",
   "mimetype": "text/x-python",
   "name": "python",
   "nbconvert_exporter": "python",
   "pygments_lexer": "ipython3",
   "version": "3.9.12"
  },
  "vscode": {
   "interpreter": {
    "hash": "236bf4d45a9b1828fbb1b7fb841b63c10c85a72c5b8c19e4da9b6283350309bd"
   }
  }
 },
 "nbformat": 4,
 "nbformat_minor": 4
}
