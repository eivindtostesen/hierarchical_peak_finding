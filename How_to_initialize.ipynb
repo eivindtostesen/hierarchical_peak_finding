{
 "cells": [
  {
   "cell_type": "markdown",
   "metadata": {},
   "source": [
    "# How to initialize a PeakTree object\n",
    "This tutorial shows how to give input data to `PeakTree(arg)` that initializes an instance. PeakTree instantiation takes a single argument, which must be an iterable of `(x, h)` points. (Think of `x` as \"position\" and `h` as \"height\".) These points must be an alternating sequence of local maxima and minima.\n",
    "\n",
    "How to do that is shown for a range of different data sources."
   ]
  },
  {
   "cell_type": "markdown",
   "metadata": {},
   "source": [
    "## Discrete data sets\n",
    "If you want to find the hierarchical peaks in a discrete sequence of data points (e.g. sampled points, discrete 1-D functions, time series, etc.), it is easiest to use the function `filter_local_extrema()` to produce a sequence of all local maxima and minima from an iterable of your data. (You are free to use another method to preprocess the data yourself to extract the local maxima and minima.) The maxima and minima are used to initialize a PeakTree.\n",
    "\n",
    "This is demonstrated for these cases:\n",
    "1. An x-vector and an h-vector\n",
    "2. Non-numeric x-coordinates\n",
    "3. A list of (x,h) tuples\n",
    "4. A dictionary of x: h\n",
    "5. A h-vector only\n",
    "6. A function h(x)\n",
    "7. A generator function yielding (x, h)\n",
    "8. x-values that are tuples themselves"
   ]
  },
  {
   "cell_type": "code",
   "execution_count": 1,
   "metadata": {},
   "outputs": [],
   "source": [
    "# import the module\n",
    "import hierarchical_peaks as hip"
   ]
  },
  {
   "cell_type": "markdown",
   "metadata": {},
   "source": [
    "### Example 1: An x-vector and an h-vector\n",
    "If data point coordinates are stored in two lists (`x_vector` and `h_vector`), then a `zip()` of the two lists can be used as input argument."
   ]
  },
  {
   "cell_type": "code",
   "execution_count": 2,
   "metadata": {},
   "outputs": [],
   "source": [
    "# small example data set:\n",
    "x_vector = [n for n in range(2005,2022)]\n",
    "h_vector = [8.5, 9.0, 5.0, 10.0, 7.5, 3.0, 6.0, 6.0, 2.0, 7.5, 7.5, 8.0, 6.0, 7.0, 4.0, 4.0, 5.0]\n",
    "\n",
    "\n",
    "# initialize a PeakTree:\n",
    "tree1 = hip.PeakTree(hip.filter_local_extrema(zip(x_vector, h_vector)))\n"
   ]
  },
  {
   "cell_type": "markdown",
   "metadata": {},
   "source": [
    "You can double-check which data points that `PeakTree` used to initialize this instance, because they are stored (as a dict) in the data attribute called `elevation`."
   ]
  },
  {
   "cell_type": "code",
   "execution_count": 3,
   "metadata": {},
   "outputs": [
    {
     "name": "stdout",
     "output_type": "stream",
     "text": [
      "{2006: 9.0, 2007: 5.0, 2008: 10.0, 2010: 3.0, 2012: 6.0, 2013: 2.0, 2016: 8.0, 2017: 6.0, 2018: 7.0, 2020: 4.0, 2021: 5.0}\n"
     ]
    }
   ],
   "source": [
    "print(tree1.elevation)"
   ]
  },
  {
   "cell_type": "markdown",
   "metadata": {},
   "source": [
    "### Example 2: Non-numeric x-coordinates\n",
    "The h-values must be numeric. But the x-values can be any type of non-numeric object, as long as they can be used as keys in the `elevation` dict (must be unique and hashable)."
   ]
  },
  {
   "cell_type": "code",
   "execution_count": 4,
   "metadata": {},
   "outputs": [
    {
     "name": "stdout",
     "output_type": "stream",
     "text": [
      "('A', 8.5) ('B', 9.0) ('C', 5.0) ('D', 10.0) ('E', 7.5) ('F', 3.0) ('G', 6.0) ('H', 6.0) ('I', 2.0) ('J', 7.5) ('K', 7.5) ('L', 8.0) ('M', 6.0) ('N', 7.0) ('O', 4.0) ('P', 4.0) ('Q', 5.0)\n"
     ]
    }
   ],
   "source": [
    "x_nonnumeric = \"ABCDEFGHIJKLMNOPQRSTUVWXYZ\"\n",
    "\n",
    "print(*(zip(x_nonnumeric, h_vector)))"
   ]
  },
  {
   "cell_type": "code",
   "execution_count": 5,
   "metadata": {},
   "outputs": [
    {
     "name": "stdout",
     "output_type": "stream",
     "text": [
      "{'B': 9.0, 'C': 5.0, 'D': 10.0, 'F': 3.0, 'H': 6.0, 'I': 2.0, 'L': 8.0, 'M': 6.0, 'N': 7.0, 'P': 4.0, 'Q': 5.0}\n"
     ]
    }
   ],
   "source": [
    "# initialize a PeakTree:\n",
    "tree2 = hip.PeakTree(hip.filter_local_extrema(zip(x_nonnumeric, h_vector)))\n",
    "\n",
    "print(tree2.elevation)"
   ]
  },
  {
   "cell_type": "markdown",
   "metadata": {},
   "source": [
    "### Example 3: A list of (x,h) tuples\n",
    "If data points are available as a sorted list of `(x, h)`, then this list can be used directly as input argument."
   ]
  },
  {
   "cell_type": "code",
   "execution_count": 6,
   "metadata": {},
   "outputs": [
    {
     "name": "stdout",
     "output_type": "stream",
     "text": [
      "xh_list =  [(2005, 8.5), (2006, 9.0), (2007, 5.0), (2008, 10.0), (2009, 7.5), (2010, 3.0), (2011, 6.0), (2012, 6.0), (2013, 2.0), (2014, 7.5), (2015, 7.5), (2016, 8.0), (2017, 6.0), (2018, 7.0), (2019, 4.0), (2020, 4.0), (2021, 5.0)]\n"
     ]
    }
   ],
   "source": [
    "xh_list = list(zip(x_vector, h_vector))\n",
    "print(\"xh_list = \", xh_list)"
   ]
  },
  {
   "cell_type": "code",
   "execution_count": 7,
   "metadata": {},
   "outputs": [
    {
     "name": "stdout",
     "output_type": "stream",
     "text": [
      "{2006: 9.0, 2007: 5.0, 2008: 10.0, 2010: 3.0, 2012: 6.0, 2013: 2.0, 2016: 8.0, 2017: 6.0, 2018: 7.0, 2020: 4.0, 2021: 5.0}\n"
     ]
    }
   ],
   "source": [
    "# initialize a PeakTree:\n",
    "tree3 = hip.PeakTree(hip.filter_local_extrema(xh_list))\n",
    "\n",
    "print(tree3.elevation)"
   ]
  },
  {
   "cell_type": "markdown",
   "metadata": {},
   "source": [
    "### Example 4: A dict of x: h\n",
    "If data points are stored in a dictionary, and they were inserted in sorted order, then the dict's `.items()` should be used as input argument."
   ]
  },
  {
   "cell_type": "code",
   "execution_count": 8,
   "metadata": {},
   "outputs": [
    {
     "name": "stdout",
     "output_type": "stream",
     "text": [
      "xh_dict =  {2005: 8.5, 2006: 9.0, 2007: 5.0, 2008: 10.0, 2009: 7.5, 2010: 3.0, 2011: 6.0, 2012: 6.0, 2013: 2.0, 2014: 7.5, 2015: 7.5, 2016: 8.0, 2017: 6.0, 2018: 7.0, 2019: 4.0, 2020: 4.0, 2021: 5.0}\n"
     ]
    }
   ],
   "source": [
    "xh_dict = dict(zip(x_vector, h_vector))\n",
    "print(\"xh_dict = \", xh_dict)"
   ]
  },
  {
   "cell_type": "code",
   "execution_count": 9,
   "metadata": {},
   "outputs": [
    {
     "name": "stdout",
     "output_type": "stream",
     "text": [
      "{2006: 9.0, 2007: 5.0, 2008: 10.0, 2010: 3.0, 2012: 6.0, 2013: 2.0, 2016: 8.0, 2017: 6.0, 2018: 7.0, 2020: 4.0, 2021: 5.0}\n"
     ]
    }
   ],
   "source": [
    "# initialize a PeakTree:\n",
    "tree4 = hip.PeakTree(hip.filter_local_extrema(xh_dict.items()))\n",
    "\n",
    "print(tree4.elevation)"
   ]
  },
  {
   "cell_type": "markdown",
   "metadata": {},
   "source": [
    "### Example 5: An h-vector only\n",
    "If the data set is a list of h-values alone, then the index of the list is a natural x-coordinate, and an `enumerate()` of the list can be used as input argument."
   ]
  },
  {
   "cell_type": "code",
   "execution_count": 10,
   "metadata": {},
   "outputs": [
    {
     "name": "stdout",
     "output_type": "stream",
     "text": [
      "h_vector =  [8.5, 9.0, 5.0, 10.0, 7.5, 3.0, 6.0, 6.0, 2.0, 7.5, 7.5, 8.0, 6.0, 7.0, 4.0, 4.0, 5.0]\n"
     ]
    }
   ],
   "source": [
    "print(\"h_vector = \", h_vector)"
   ]
  },
  {
   "cell_type": "code",
   "execution_count": 11,
   "metadata": {
    "scrolled": true
   },
   "outputs": [
    {
     "name": "stdout",
     "output_type": "stream",
     "text": [
      "{1: 9.0, 2: 5.0, 3: 10.0, 5: 3.0, 7: 6.0, 8: 2.0, 11: 8.0, 12: 6.0, 13: 7.0, 15: 4.0, 16: 5.0}\n"
     ]
    }
   ],
   "source": [
    "# initialize a PeakTree:\n",
    "tree5 = hip.PeakTree(hip.filter_local_extrema(enumerate(h_vector)))\n",
    "\n",
    "print(tree5.elevation)"
   ]
  },
  {
   "cell_type": "markdown",
   "metadata": {},
   "source": [
    "### Example 6: A function h(x)\n",
    "If h-data are not stored in memory, but can be calculated with a function for a given range of x-values, then a generator expression like `((x, h(x)) for x in range(2005,2022))` can be used as input argument. "
   ]
  },
  {
   "cell_type": "code",
   "execution_count": 12,
   "metadata": {},
   "outputs": [
    {
     "name": "stdout",
     "output_type": "stream",
     "text": [
      "In 2005, h was 8.5\n",
      "In 2021, h was 5.0\n"
     ]
    }
   ],
   "source": [
    "def h(x):\n",
    "    return h_vector[x - 2005]\n",
    "\n",
    "# For example,\n",
    "print(\"In 2005, h was\", h(2005))\n",
    "print(\"In 2021, h was\", h(2021))"
   ]
  },
  {
   "cell_type": "code",
   "execution_count": 13,
   "metadata": {},
   "outputs": [
    {
     "name": "stdout",
     "output_type": "stream",
     "text": [
      "{2006: 9.0, 2007: 5.0, 2008: 10.0, 2010: 3.0, 2012: 6.0, 2013: 2.0, 2016: 8.0, 2017: 6.0, 2018: 7.0, 2020: 4.0, 2021: 5.0}\n"
     ]
    }
   ],
   "source": [
    "# initialize a PeakTree:\n",
    "tree6 = hip.PeakTree(hip.filter_local_extrema(((x, h(x)) for x in range(2005,2022))))\n",
    "\n",
    "print(tree6.elevation)"
   ]
  },
  {
   "cell_type": "markdown",
   "metadata": {},
   "source": [
    "### Example 7: A generator function yielding (x, h)\n",
    "Sometimes you don't want a generator expression as input argument, but a generator function instead."
   ]
  },
  {
   "cell_type": "code",
   "execution_count": 14,
   "metadata": {},
   "outputs": [],
   "source": [
    "def xh_generator():\n",
    "    for x in range(2005,2022):\n",
    "        yield x, h_vector[x - 2005]"
   ]
  },
  {
   "cell_type": "code",
   "execution_count": 15,
   "metadata": {},
   "outputs": [
    {
     "name": "stdout",
     "output_type": "stream",
     "text": [
      "{2006: 9.0, 2007: 5.0, 2008: 10.0, 2010: 3.0, 2012: 6.0, 2013: 2.0, 2016: 8.0, 2017: 6.0, 2018: 7.0, 2020: 4.0, 2021: 5.0}\n"
     ]
    }
   ],
   "source": [
    "# initialize a PeakTree:\n",
    "tree7 = hip.PeakTree(hip.filter_local_extrema(xh_generator()))\n",
    "\n",
    "print(tree7.elevation)"
   ]
  },
  {
   "cell_type": "markdown",
   "metadata": {},
   "source": [
    "### Example 8: x-values that are tuples themselves\n",
    "The x-values can be more complex objects. For example, they can be `(x, h)` coordinate pairs:"
   ]
  },
  {
   "cell_type": "code",
   "execution_count": 16,
   "metadata": {},
   "outputs": [
    {
     "name": "stdout",
     "output_type": "stream",
     "text": [
      "xh_pairs =  (2005, 8.5) (2006, 9.0) (2007, 5.0) (2008, 10.0) (2009, 7.5) (2010, 3.0) (2011, 6.0) (2012, 6.0) (2013, 2.0) (2014, 7.5) (2015, 7.5) (2016, 8.0) (2017, 6.0) (2018, 7.0) (2019, 4.0) (2020, 4.0) (2021, 5.0)\n"
     ]
    }
   ],
   "source": [
    "xh_pairs = zip(x_vector, h_vector)\n",
    "print(\"xh_pairs = \", *xh_pairs)"
   ]
  },
  {
   "cell_type": "code",
   "execution_count": 17,
   "metadata": {},
   "outputs": [
    {
     "name": "stdout",
     "output_type": "stream",
     "text": [
      "{(2006, 9.0): 9.0, (2007, 5.0): 5.0, (2008, 10.0): 10.0, (2010, 3.0): 3.0, (2012, 6.0): 6.0, (2013, 2.0): 2.0, (2016, 8.0): 8.0, (2017, 6.0): 6.0, (2018, 7.0): 7.0, (2020, 4.0): 4.0, (2021, 5.0): 5.0}\n"
     ]
    }
   ],
   "source": [
    "# initialize a PeakTree:\n",
    "\n",
    "xh_pairs = zip(x_vector, h_vector)\n",
    "\n",
    "tree8 = hip.PeakTree(hip.filter_local_extrema(zip(xh_pairs, h_vector)))\n",
    "\n",
    "print(tree8.elevation)"
   ]
  },
  {
   "cell_type": "markdown",
   "metadata": {},
   "source": [
    "So it is straightforward to adapt data from discrete data sources.\n",
    "\n",
    "## Continuous functions\n",
    "For finding peaks in a continuous function, the function `filter_local_extrema()` can not be applied. Some other preprocessing routine, possibly based on zero derivatives (scipy tools?), could be developed to find the local maxima and minima required by `PeakTree`.\n",
    "\n",
    "However, if you sample the function with high enough density to capture all hills and valleys, you are back to the discrete case."
   ]
  },
  {
   "cell_type": "code",
   "execution_count": null,
   "metadata": {},
   "outputs": [],
   "source": []
  }
 ],
 "metadata": {
  "kernelspec": {
   "display_name": "Python 3",
   "language": "python",
   "name": "python3"
  },
  "language_info": {
   "codemirror_mode": {
    "name": "ipython",
    "version": 3
   },
   "file_extension": ".py",
   "mimetype": "text/x-python",
   "name": "python",
   "nbconvert_exporter": "python",
   "pygments_lexer": "ipython3",
   "version": "3.8.8"
  }
 },
 "nbformat": 4,
 "nbformat_minor": 4
}
