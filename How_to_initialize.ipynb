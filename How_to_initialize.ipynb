{
 "cells": [
  {
   "cell_type": "markdown",
   "metadata": {},
   "source": [
    "# How to initialize a PeakTree object\n",
    "This tutorial shows how to give input data to `PeakTree(arg)`, that initializes an instance. PeakTree instantiation takes a single argument, which must be an iterable of (x,y) points. These points must be an alternating sequence of local maxima and minima.\n",
    "\n",
    "How to do that is shown for a range of different data sources."
   ]
  },
  {
   "cell_type": "markdown",
   "metadata": {},
   "source": [
    "## Discrete data sets\n",
    "If you want to find the hierarchical peaks in a discrete sequence of data points (sampled points, discrete 1-D functions, time series, etc.), then you could preprocess data yourself to extract all the local maxima and minima. Or better, the function `filter_local_extrema()` is used to produce a sequence of local maxima and minima from an iterable of your data.\n",
    "\n",
    "This is demonstrated for these cases:\n",
    "1. An x-vector and a y-vector\n",
    "2. Non-numeric x-coordinates\n",
    "3. A list of (x,y) tuples\n",
    "4. A dictionary of x: y\n",
    "5. A y-vector only\n",
    "6. A function y(x)\n",
    "7. A generator function yielding (x, y)"
   ]
  },
  {
   "cell_type": "code",
   "execution_count": null,
   "metadata": {},
   "outputs": [],
   "source": [
    "# import the module\n",
    "import hierarchical_peaks as hip"
   ]
  },
  {
   "cell_type": "markdown",
   "metadata": {},
   "source": [
    "### Example 1: An x-vector and a y-vector\n",
    "If data point coordinates are stored in two lists (`x_vector` and `y_vector`), then a `zip()` of the two lists can be used as input argument."
   ]
  },
  {
   "cell_type": "code",
   "execution_count": null,
   "metadata": {},
   "outputs": [],
   "source": [
    "# small example data set:\n",
    "x_vector = [n for n in range(2005,2022)]\n",
    "y_vector = [8.5, 9.0, 5.0, 10.0, 7.5, 3.0, 6.0, 6.0, 2.0, 7.5, 7.5, 8.0, 6.0, 7.0, 4.0, 4.0, 5.0]\n",
    "\n",
    "\n",
    "# initialize a PeakTree:\n",
    "tree1 = hip.PeakTree(hip.filter_local_extrema(zip(x_vector, y_vector)))\n"
   ]
  },
  {
   "cell_type": "markdown",
   "metadata": {},
   "source": [
    "You can double-check which data points that `PeakTree` used to initialize this instance, because they are stored (as a dict) in the data attribute called `elevation`."
   ]
  },
  {
   "cell_type": "code",
   "execution_count": null,
   "metadata": {},
   "outputs": [],
   "source": [
    "print(tree1.elevation)"
   ]
  },
  {
   "cell_type": "markdown",
   "metadata": {},
   "source": [
    "### Example 2: Non-numeric x-coordinates\n",
    "The y-coordinates must be numeric (= \"height\"). But the x-coordinates can be any type of non-numeric sortable objects."
   ]
  },
  {
   "cell_type": "code",
   "execution_count": null,
   "metadata": {},
   "outputs": [],
   "source": [
    "x_nonnumeric = \"ABCDEFGHIJKLMNOPQRSTUVWXYZ\"\n",
    "\n",
    "print(*(zip(x_nonnumeric, y_vector)))"
   ]
  },
  {
   "cell_type": "code",
   "execution_count": null,
   "metadata": {},
   "outputs": [],
   "source": [
    "# initialize a PeakTree:\n",
    "tree2 = hip.PeakTree(hip.filter_local_extrema(zip(x_nonnumeric, y_vector)))\n",
    "\n",
    "print(tree2.elevation)"
   ]
  },
  {
   "cell_type": "markdown",
   "metadata": {},
   "source": [
    "### Example 3: A list of (x,y) tuples\n",
    "If data points are available as a sorted list of x, y, then this list can be used directly as input argument."
   ]
  },
  {
   "cell_type": "code",
   "execution_count": null,
   "metadata": {},
   "outputs": [],
   "source": [
    "xy_list = list(zip(x_vector, y_vector))\n",
    "print(\"xy_list = \", xy_list)"
   ]
  },
  {
   "cell_type": "code",
   "execution_count": null,
   "metadata": {},
   "outputs": [],
   "source": [
    "# initialize a PeakTree:\n",
    "tree3 = hip.PeakTree(hip.filter_local_extrema(xy_list))\n",
    "\n",
    "print(tree3.elevation)"
   ]
  },
  {
   "cell_type": "markdown",
   "metadata": {},
   "source": [
    "### Example 4: A dict of x: y\n",
    "If data points are stored in a dictionary, then the dict's `.items()` should be used as input argument."
   ]
  },
  {
   "cell_type": "code",
   "execution_count": null,
   "metadata": {},
   "outputs": [],
   "source": [
    "xy_dict = dict(zip(x_vector, y_vector))\n",
    "print(\"xy_dict = \", xy_dict)"
   ]
  },
  {
   "cell_type": "code",
   "execution_count": null,
   "metadata": {},
   "outputs": [],
   "source": [
    "# initialize a PeakTree:\n",
    "tree4 = hip.PeakTree(hip.filter_local_extrema(xy_dict.items()))\n",
    "\n",
    "print(tree4.elevation)"
   ]
  },
  {
   "cell_type": "markdown",
   "metadata": {},
   "source": [
    "### Example 5: A y-vector only\n",
    "If the data set is a list of y-values alone, then the index of the list is a natural x-coordinate, and an `enumerate()` of the list can be used as input argument."
   ]
  },
  {
   "cell_type": "code",
   "execution_count": null,
   "metadata": {},
   "outputs": [],
   "source": [
    "print(\"y_vector = \", y_vector)"
   ]
  },
  {
   "cell_type": "code",
   "execution_count": null,
   "metadata": {
    "scrolled": true
   },
   "outputs": [],
   "source": [
    "# initialize a PeakTree:\n",
    "tree5 = hip.PeakTree(hip.filter_local_extrema(enumerate(y_vector)))\n",
    "\n",
    "print(tree5.elevation)"
   ]
  },
  {
   "cell_type": "markdown",
   "metadata": {},
   "source": [
    "### Example 6: A function y(x)\n",
    "If y-data are not stored in memory, but can be calculated with a function for a given range of x-data, then a generator expression like `((x, y(x)) for x in range(2005,2022))` can be used as input argument. "
   ]
  },
  {
   "cell_type": "code",
   "execution_count": null,
   "metadata": {},
   "outputs": [],
   "source": [
    "def y(x):\n",
    "    return y_vector[x - 2005]\n",
    "\n",
    "# For example,\n",
    "print(\"In 2005, y was\", y(2005))\n",
    "print(\"In 2021, y was\", y(2021))"
   ]
  },
  {
   "cell_type": "code",
   "execution_count": null,
   "metadata": {},
   "outputs": [],
   "source": [
    "# initialize a PeakTree:\n",
    "tree6 = hip.PeakTree(hip.filter_local_extrema(((x, y(x)) for x in range(2005,2022))))\n",
    "\n",
    "print(tree6.elevation)"
   ]
  },
  {
   "cell_type": "markdown",
   "metadata": {},
   "source": [
    "### Example 7: A generator function yielding (x, y)\n",
    "Sometimes you don't want a generator expression as input argument, but a generator function instead."
   ]
  },
  {
   "cell_type": "code",
   "execution_count": null,
   "metadata": {},
   "outputs": [],
   "source": [
    "def xy_generator():\n",
    "    for x in range(2005,2022):\n",
    "        yield x, y_vector[x - 2005]"
   ]
  },
  {
   "cell_type": "code",
   "execution_count": null,
   "metadata": {},
   "outputs": [],
   "source": [
    "# initialize a PeakTree:\n",
    "tree7 = hip.PeakTree(hip.filter_local_extrema(xy_generator()))\n",
    "\n",
    "print(tree7.elevation)"
   ]
  },
  {
   "cell_type": "markdown",
   "metadata": {},
   "source": [
    "So it is straightforward to adapt data from discrete data sources.\n",
    "\n",
    "## Continuous functions\n",
    "TODO: Use scipy tools to first find the set of local maxima and minima. Or sample the function with high enough density to capture all hills and valleys."
   ]
  }
 ],
 "metadata": {
  "kernelspec": {
   "display_name": "Python 3",
   "language": "python",
   "name": "python3"
  },
  "language_info": {
   "codemirror_mode": {
    "name": "ipython",
    "version": 3
   },
   "file_extension": ".py",
   "mimetype": "text/x-python",
   "name": "python",
   "nbconvert_exporter": "python",
   "pygments_lexer": "ipython3",
   "version": "3.8.5"
  }
 },
 "nbformat": 4,
 "nbformat_minor": 4
}
